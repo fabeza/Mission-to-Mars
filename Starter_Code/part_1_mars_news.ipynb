{
 "cells": [
  {
   "cell_type": "markdown",
   "metadata": {},
   "source": [
    "# Module 12 Challenge\n",
    "## Deliverable 1: Scrape Titles and Preview Text from Mars News"
   ]
  },
  {
   "cell_type": "code",
   "execution_count": 1,
   "metadata": {},
   "outputs": [],
   "source": [
    "# Import Splinter and BeautifulSoup\n",
    "from splinter import Browser\n",
    "from bs4 import BeautifulSoup as soup\n",
    "from webdriver_manager.chrome import ChromeDriverManager"
   ]
  },
  {
   "cell_type": "code",
   "execution_count": 2,
   "metadata": {
    "scrolled": true
   },
   "outputs": [],
   "source": [
    "executable_path = {'executable_path': ChromeDriverManager().install()}\n",
    "browser = Browser('chrome', **executable_path, headless=False)"
   ]
  },
  {
   "cell_type": "markdown",
   "metadata": {},
   "source": [
    "### Step 1: Visit the Website\n",
    "\n",
    "1. Use automated browsing to visit the [Mars NASA news site](https://redplanetscience.com). Inspect the page to identify which elements to scrape.\n",
    "\n",
    "      > **Hint** To identify which elements to scrape, you might want to inspect the page by using Chrome DevTools."
   ]
  },
  {
   "cell_type": "code",
   "execution_count": 3,
   "metadata": {},
   "outputs": [
    {
     "data": {
      "text/plain": [
       "True"
      ]
     },
     "execution_count": 3,
     "metadata": {},
     "output_type": "execute_result"
    }
   ],
   "source": [
    "# Visit the Mars NASA news site: https://redplanetscience.com\n",
    "url = 'https://redplanetscience.com'\n",
    "browser.visit(url)\n",
    "# Optional delay for loading the page\n",
    "browser.is_element_present_by_css('div.list_text', wait_time=1)"
   ]
  },
  {
   "cell_type": "markdown",
   "metadata": {},
   "source": [
    "### Step 2: Scrape the Website\n",
    "\n",
    "Create a Beautiful Soup object and use it to extract text elements from the website."
   ]
  },
  {
   "cell_type": "code",
   "execution_count": 6,
   "metadata": {},
   "outputs": [],
   "source": [
    "# Create a Beautiful Soup object\n",
    "html = browser.html\n",
    "news_soup = soup(html, 'html.parser')"
   ]
  },
  {
   "cell_type": "code",
   "execution_count": 17,
   "metadata": {},
   "outputs": [],
   "source": [
    "# Extract all the text elements\n",
    "titles = news_soup.find_all('div', class_='content_title')\n",
    "teasers = news_soup.find_all('div', class_='article_teaser_body')"
   ]
  },
  {
   "cell_type": "code",
   "execution_count": 18,
   "metadata": {},
   "outputs": [
    {
     "data": {
      "text/plain": [
       "[<div class=\"content_title\">AI Is Helping Scientists Discover Fresh Craters on Mars</div>,\n",
       " <div class=\"content_title\">NASA's Mars 2020 Rover Goes Coast-to-Coast to Prep for Launch</div>,\n",
       " <div class=\"content_title\">NASA Establishes Board to Initially Review Mars Sample Return Plans</div>,\n",
       " <div class=\"content_title\">NASA's Mars Rover Drivers Need Your Help</div>,\n",
       " <div class=\"content_title\">With Mars Methane Mystery Unsolved, Curiosity Serves Scientists a New One: Oxygen</div>,\n",
       " <div class=\"content_title\">NASA Engineers Checking InSight's Weather Sensors</div>,\n",
       " <div class=\"content_title\">Screening Soon: 'The Pathfinders' Trains Lens on Mars</div>,\n",
       " <div class=\"content_title\">Independent Review Indicates NASA Prepared for Mars Sample Return Campaign</div>,\n",
       " <div class=\"content_title\">NASA InSight's 'Mole' Is Out of Sight</div>,\n",
       " <div class=\"content_title\">NASA's Curiosity Mars Rover Snaps Its Highest-Resolution Panorama Yet</div>,\n",
       " <div class=\"content_title\">NASA Adds Return Sample Scientists to Mars 2020 Leadership Team</div>,\n",
       " <div class=\"content_title\">MOXIE Could Help Future Rockets Launch Off Mars</div>,\n",
       " <div class=\"content_title\">Meet the People Behind NASA's Perseverance Rover</div>,\n",
       " <div class=\"content_title\">10.9 Million Names Now Aboard NASA's Perseverance Mars Rover</div>,\n",
       " <div class=\"content_title\">NASA's Ingenuity Mars Helicopter Recharges Its Batteries in Flight</div>]"
      ]
     },
     "execution_count": 18,
     "metadata": {},
     "output_type": "execute_result"
    }
   ],
   "source": [
    "title"
   ]
  },
  {
   "cell_type": "code",
   "execution_count": 19,
   "metadata": {},
   "outputs": [
    {
     "data": {
      "text/plain": [
       "[<div class=\"article_teaser_body\">It's the first time machine learning has been used to find previously unknown craters on the Red Planet.</div>,\n",
       " <div class=\"article_teaser_body\">The agency's first step in returning rocks from Mars just arrived at Kennedy Space Center. The Mars 2020 team now begins readying for a launch to the Red Planet this July.</div>,\n",
       " <div class=\"article_teaser_body\">The board will assist with analysis of current plans and goals for one of the most difficult missions humanity has ever undertaken.</div>,\n",
       " <div class=\"article_teaser_body\">Using an online tool to label Martian terrain types, you can train an artificial intelligence algorithm that could improve the way engineers guide the Curiosity rover.</div>,\n",
       " <div class=\"article_teaser_body\">For the first time in the history of space exploration, scientists have measured the seasonal changes in the gases that fill the air directly above the surface of Gale Crater on Mars. </div>,\n",
       " <div class=\"article_teaser_body\">An electronics issue is suspected to be preventing the sensors from sharing their data about Mars weather with the spacecraft.</div>,\n",
       " <div class=\"article_teaser_body\">With the Mars 2020 mission ramping up, the documentary — the first of four about past JPL missions to the Red Planet to be shown at Caltech — tells a gripping backstory.</div>,\n",
       " <div class=\"article_teaser_body\">NASA released an independent review report Tuesday indicating the agency is well positioned for its Mars Sample Return campaign to bring pristine samples from Mars to Earth for scientific study.</div>,\n",
       " <div class=\"article_teaser_body\">Now that the heat probe is just below the Martian surface, InSight's arm will scoop some additional soil on top to help it keep digging so it can take Mars' temperature.</div>,\n",
       " <div class=\"article_teaser_body\">To go along with the stunning 1.8-billion-pixel image, a new video offers a sweeping view of the Red Planet.</div>,\n",
       " <div class=\"article_teaser_body\">The leadership council for Mars 2020 science added two new members who represent the interests of scientists destined to handle and study the first samples from Red Planet.</div>,\n",
       " <div class=\"article_teaser_body\">NASA's Perseverance rover carries a device to convert Martian air into oxygen that, if produced on a larger scale, could be used not just for breathing, but also for fuel.</div>,\n",
       " <div class=\"article_teaser_body\">These are the scientists and engineers who built NASA's next Mars rover and who will guide it to a safe landing in Jezero Crater. </div>,\n",
       " <div class=\"article_teaser_body\">As part of NASA's 'Send Your Name to Mars' campaign, they've been stenciled onto three microchips along with essays from NASA's 'Name the Rover' contest. Next stop: Mars.</div>,\n",
       " <div class=\"article_teaser_body\">Headed to the Red Planet with the Perseverance rover, the pioneering helicopter is powered up for the first time in interplanetary space as part of a systems check.</div>]"
      ]
     },
     "execution_count": 19,
     "metadata": {},
     "output_type": "execute_result"
    }
   ],
   "source": [
    "teasers"
   ]
  },
  {
   "cell_type": "markdown",
   "metadata": {},
   "source": [
    "### Step 3: Store the Results\n",
    "\n",
    "Extract the titles and preview text of the news articles that you scraped. Store the scraping results in Python data structures as follows:\n",
    "\n",
    "* Store each title-and-preview pair in a Python dictionary. And, give each dictionary two keys: `title` and `preview`. An example is the following:\n",
    "\n",
    "  ```python\n",
    "  {'title': \"Mars Rover Begins Mission!\", \n",
    "        'preview': \"NASA's Mars Rover begins a multiyear mission to collect data about the little-explored planet.\"}\n",
    "  ```\n",
    "\n",
    "* Store all the dictionaries in a Python list.\n",
    "\n",
    "* Print the list in your notebook."
   ]
  },
  {
   "cell_type": "code",
   "execution_count": 20,
   "metadata": {},
   "outputs": [],
   "source": [
    "# Create an empty list to store the dictionaries\n",
    "mars_news = []"
   ]
  },
  {
   "cell_type": "code",
   "execution_count": 22,
   "metadata": {},
   "outputs": [],
   "source": [
    "# Loop through the text elements\n",
    "for title, teaser in zip(titles, teasers):\n",
    "    # Extract the title and preview text from the elements\n",
    "    title_text = title.get_text()\n",
    "    teaser_text = teaser.get_text()\n",
    "    # Store each title and preview pair in a dictionary\n",
    "    data = {'title': title_text, 'preview': teaser_text}\n",
    "    # Add the dictionary to the list\n",
    "    mars_news.append(data)"
   ]
  },
  {
   "cell_type": "code",
   "execution_count": 23,
   "metadata": {},
   "outputs": [
    {
     "data": {
      "text/plain": [
       "[{'title': 'AI Is Helping Scientists Discover Fresh Craters on Mars',\n",
       "  'preview': \"It's the first time machine learning has been used to find previously unknown craters on the Red Planet.\"},\n",
       " {'title': \"NASA's Mars 2020 Rover Goes Coast-to-Coast to Prep for Launch\",\n",
       "  'preview': \"The agency's first step in returning rocks from Mars just arrived at Kennedy Space Center. The Mars 2020 team now begins readying for a launch to the Red Planet this July.\"},\n",
       " {'title': 'NASA Establishes Board to Initially Review Mars Sample Return Plans',\n",
       "  'preview': 'The board will assist with analysis of current plans and goals for one of the most difficult missions humanity has ever undertaken.'},\n",
       " {'title': \"NASA's Mars Rover Drivers Need Your Help\",\n",
       "  'preview': 'Using an online tool to label Martian terrain types, you can train an artificial intelligence algorithm that could improve the way engineers guide the Curiosity rover.'},\n",
       " {'title': 'With Mars Methane Mystery Unsolved, Curiosity Serves Scientists a New One: Oxygen',\n",
       "  'preview': 'For the first time in the history of space exploration, scientists have measured the seasonal changes in the gases that fill the air directly above the surface of Gale Crater on Mars. '},\n",
       " {'title': \"NASA Engineers Checking InSight's Weather Sensors\",\n",
       "  'preview': 'An electronics issue is suspected to be preventing the sensors from sharing their data about Mars weather with the spacecraft.'},\n",
       " {'title': \"Screening Soon: 'The Pathfinders' Trains Lens on Mars\",\n",
       "  'preview': 'With the Mars 2020 mission ramping up, the documentary — the first of four about past JPL missions to the Red Planet to be shown at Caltech — tells a gripping backstory.'},\n",
       " {'title': 'Independent Review Indicates NASA Prepared for Mars Sample Return Campaign',\n",
       "  'preview': 'NASA released an independent review report Tuesday indicating the agency is well positioned for its Mars Sample Return campaign to bring pristine samples from Mars to Earth for scientific study.'},\n",
       " {'title': \"NASA InSight's 'Mole' Is Out of Sight\",\n",
       "  'preview': \"Now that the heat probe is just below the Martian surface, InSight's arm will scoop some additional soil on top to help it keep digging so it can take Mars' temperature.\"},\n",
       " {'title': \"NASA's Curiosity Mars Rover Snaps Its Highest-Resolution Panorama Yet\",\n",
       "  'preview': 'To go along with the stunning 1.8-billion-pixel image, a new video offers a sweeping view of the Red Planet.'},\n",
       " {'title': 'NASA Adds Return Sample Scientists to Mars 2020 Leadership Team',\n",
       "  'preview': 'The leadership council for Mars 2020 science added two new members who represent the interests of scientists destined to handle and study the first samples from Red Planet.'},\n",
       " {'title': 'MOXIE Could Help Future Rockets Launch Off Mars',\n",
       "  'preview': \"NASA's Perseverance rover carries a device to convert Martian air into oxygen that, if produced on a larger scale, could be used not just for breathing, but also for fuel.\"},\n",
       " {'title': \"Meet the People Behind NASA's Perseverance Rover\",\n",
       "  'preview': \"These are the scientists and engineers who built NASA's next Mars rover and who will guide it to a safe landing in Jezero Crater. \"},\n",
       " {'title': \"10.9 Million Names Now Aboard NASA's Perseverance Mars Rover\",\n",
       "  'preview': \"As part of NASA's 'Send Your Name to Mars' campaign, they've been stenciled onto three microchips along with essays from NASA's 'Name the Rover' contest. Next stop: Mars.\"},\n",
       " {'title': \"NASA's Ingenuity Mars Helicopter Recharges Its Batteries in Flight\",\n",
       "  'preview': 'Headed to the Red Planet with the Perseverance rover, the pioneering helicopter is powered up for the first time in interplanetary space as part of a systems check.'}]"
      ]
     },
     "execution_count": 23,
     "metadata": {},
     "output_type": "execute_result"
    }
   ],
   "source": [
    "# Print the list to confirm success\n",
    "mars_news"
   ]
  },
  {
   "cell_type": "code",
   "execution_count": 24,
   "metadata": {},
   "outputs": [],
   "source": [
    "browser.quit()"
   ]
  },
  {
   "cell_type": "markdown",
   "metadata": {},
   "source": [
    "### (Optional) Step 4: Export the Data\n",
    "\n",
    "Optionally, store the scraped data in a file or database (to ease sharing the data with others). To do so, export the scraped data to either a JSON file or a MongoDB database."
   ]
  },
  {
   "cell_type": "code",
   "execution_count": null,
   "metadata": {},
   "outputs": [],
   "source": [
    "# Export data to JSON\n"
   ]
  },
  {
   "cell_type": "code",
   "execution_count": null,
   "metadata": {},
   "outputs": [],
   "source": [
    "# Export data to MongoDB\n"
   ]
  }
 ],
 "metadata": {
  "kernelspec": {
   "display_name": "Python 3 (ipykernel)",
   "language": "python",
   "name": "python3"
  },
  "language_info": {
   "codemirror_mode": {
    "name": "ipython",
    "version": 3
   },
   "file_extension": ".py",
   "mimetype": "text/x-python",
   "name": "python",
   "nbconvert_exporter": "python",
   "pygments_lexer": "ipython3",
   "version": "3.9.12"
  }
 },
 "nbformat": 4,
 "nbformat_minor": 4
}
